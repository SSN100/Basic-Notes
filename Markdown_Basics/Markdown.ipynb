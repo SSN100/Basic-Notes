{
 "cells": [
  {
   "cell_type": "markdown",
   "metadata": {
    "colab_type": "text",
    "id": "DwgAgM8_KPs-"
   },
   "source": [
    "<h1><u>Basics of Markdown:</u></h1>\n",
    "<p>Markdown is a lightweight markup language with plane-text-formatting syntax. For more advanced knowledge of Markdown, visit the <a href=\"https://www.markdownguide.org/\", title=\"\"> official page</a>.</p>\n",
    "<p>The very basics of Markdown to use in Jupyter-Notebook are listed below:</p>\n",
    "<ol>\n",
    "<h2><li>Paragraphs:</h2>\n",
    "    Text in a paragraph can be simply enclosed in <h4>&lt;p&gt;Text&lt;p&gt;</h4></li>\n",
    "<h2><li>Headers:</h2>\n",
    "There are many level of headers. Higher level header has smaller font size than that of lower level header.\n",
    "<ul>\n",
    "    <h4><li>First Level:   &lt;h1&gt;Text&lt;/h1&gt;</h4> </li>\n",
    "    <h4><li>Second Level:   &lt;h2&gt;Text&lt;/h2&gt;</h4> </li>\n",
    "    <h4><li>And so on..</h4> </li>\n",
    "    <h4><li>Underline:   &lt;u&gt;Text&lt;/u&gt;</h4> </li>\n",
    "    </ul></li>\n",
    "<h2><li>Phrase Emphasis:</h2>\n",
    "*Text* and _Text_ for italic, **Text** and __Text__ for bold.</li>\n",
    "<h2><li>Lists:</h2>\n",
    "<ul><li>Unordered List: &lt;ul&gt;Text&lt;/ul&gt;</li>\n",
    "    <li>Ordered List: &lt;ol&gt;Text&lt;/ol&gt;</li>\n",
    "</ul></li>\n",
    "<h2><li>Links:</h2>\n",
    "&lt;a href=\"http://example.com/\" title=\"With a Title\"&gt;example link.&lt;/ol&gt;\n",
    "<p>Output: This is an <u>example link</u>.</p></li>\n",
    "<h2><li>Images and Videos:</h2>\n",
    "&lt;img src=\"path/to/img.jpg\" title=\"With a Title\"/&gt;</li>\n",
    "<p>&lt;video controls src=\"path/to/video.mp4\" title=\"With a Title\"/&gt;</p></li>\n",
    "<h2><li>Backlash Escapes:</h2>\n",
    "Backlash escapes to generate literal special characters.\n",
    "<p>Examples: \\*literal asterisks\\*, Output: *literal asterisks*</p></li>\n",
    "<h2><li>Latex Equations:</h2>\n",
    "In order to insert Latex equations, one need to enclose the Latex code with \\$ or \\$$.</li>\n",
    "\n",
    "</ol>"
   ]
  }
 ],
 "metadata": {
  "colab": {
   "collapsed_sections": [],
   "name": "Markdown.ipynb",
   "provenance": []
  },
  "kernelspec": {
   "display_name": "Python 3",
   "language": "python",
   "name": "python3"
  },
  "language_info": {
   "codemirror_mode": {
    "name": "ipython",
    "version": 3
   },
   "file_extension": ".py",
   "mimetype": "text/x-python",
   "name": "python",
   "nbconvert_exporter": "python",
   "pygments_lexer": "ipython3",
   "version": "3.7.4"
  },
  "toc": {
   "base_numbering": 1,
   "nav_menu": {},
   "number_sections": true,
   "sideBar": true,
   "skip_h1_title": false,
   "title_cell": "Table of Contents",
   "title_sidebar": "Contents",
   "toc_cell": false,
   "toc_position": {},
   "toc_section_display": true,
   "toc_window_display": false
  }
 },
 "nbformat": 4,
 "nbformat_minor": 1
}
